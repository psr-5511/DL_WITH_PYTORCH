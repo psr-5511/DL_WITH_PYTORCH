{
 "cells": [
  {
   "cell_type": "markdown",
   "id": "fe37a63c-4d52-4507-b453-9ea67e67e055",
   "metadata": {},
   "source": [
    "Deep Learning with Pytorch"
   ]
  },
  {
   "cell_type": "code",
   "execution_count": 1,
   "id": "5a287ace-9a85-44a7-91ac-d0eecb1998b4",
   "metadata": {},
   "outputs": [],
   "source": [
    "import torch"
   ]
  },
  {
   "cell_type": "code",
   "execution_count": 2,
   "id": "97e117ef-6406-45b7-9ead-8c575be6784e",
   "metadata": {},
   "outputs": [
    {
     "data": {
      "text/plain": [
       "tensor(4.)"
      ]
     },
     "execution_count": 2,
     "metadata": {},
     "output_type": "execute_result"
    }
   ],
   "source": [
    "t1 = torch.tensor(4.)\n",
    "t1"
   ]
  },
  {
   "cell_type": "code",
   "execution_count": 3,
   "id": "2d7548c5-329b-4000-8c29-af41f5ae4832",
   "metadata": {},
   "outputs": [
    {
     "data": {
      "text/plain": [
       "torch.float32"
      ]
     },
     "execution_count": 3,
     "metadata": {},
     "output_type": "execute_result"
    }
   ],
   "source": [
    "t1.dtype"
   ]
  },
  {
   "cell_type": "code",
   "execution_count": 4,
   "id": "496bff81-1143-4003-b477-216ebd049260",
   "metadata": {},
   "outputs": [
    {
     "data": {
      "text/plain": [
       "tensor([1., 2., 3., 4.])"
      ]
     },
     "execution_count": 4,
     "metadata": {},
     "output_type": "execute_result"
    }
   ],
   "source": [
    "#Vector\n",
    "\n",
    "t2 = torch.tensor([1.,2,3,4])\n",
    "t2"
   ]
  },
  {
   "cell_type": "code",
   "execution_count": 5,
   "id": "e38bcd8d-51c0-4242-84cc-781e7c63ec51",
   "metadata": {},
   "outputs": [
    {
     "data": {
      "text/plain": [
       "tensor([[ 5.,  6.],\n",
       "        [ 7.,  8.],\n",
       "        [ 9., 10.]])"
      ]
     },
     "execution_count": 5,
     "metadata": {},
     "output_type": "execute_result"
    }
   ],
   "source": [
    "# Matrix\n",
    "\n",
    "t3 = torch.tensor([[5.,6],\n",
    "                   [7,8],\n",
    "                   [9,10]\n",
    "                  ])\n",
    "t3"
   ]
  },
  {
   "cell_type": "code",
   "execution_count": 6,
   "id": "9ebb319a-adcf-4381-90f9-02dc414d751d",
   "metadata": {},
   "outputs": [
    {
     "data": {
      "text/plain": [
       "tensor([[[11., 12., 13.],\n",
       "         [13., 14., 15.]],\n",
       "\n",
       "        [[15., 16., 17.],\n",
       "         [17., 18., 19.]]])"
      ]
     },
     "execution_count": 6,
     "metadata": {},
     "output_type": "execute_result"
    }
   ],
   "source": [
    "# 3-d array \n",
    "\n",
    "t4 = torch.tensor([\n",
    "    [[11,12,13],\n",
    "    [13,14,15]],\n",
    "    \n",
    "    [[15,16,17],\n",
    "    [17,18,19.]]\n",
    "])\n",
    "\n",
    "t4"
   ]
  },
  {
   "cell_type": "code",
   "execution_count": 7,
   "id": "b27d82b7-ae5b-40ba-a1be-082e47e3ae45",
   "metadata": {},
   "outputs": [
    {
     "name": "stdout",
     "output_type": "stream",
     "text": [
      "torch.Size([])\n"
     ]
    }
   ],
   "source": [
    "print(t1.shape)"
   ]
  },
  {
   "cell_type": "code",
   "execution_count": 8,
   "id": "95cd30cd-5516-4e86-9c6e-c8e38f06cee1",
   "metadata": {},
   "outputs": [
    {
     "name": "stdout",
     "output_type": "stream",
     "text": [
      "torch.Size([4])\n"
     ]
    }
   ],
   "source": [
    "print(t2.shape)"
   ]
  },
  {
   "cell_type": "code",
   "execution_count": 9,
   "id": "689cba3c-d04d-43db-b31c-999b89397765",
   "metadata": {},
   "outputs": [
    {
     "name": "stdout",
     "output_type": "stream",
     "text": [
      "torch.Size([3, 2])\n"
     ]
    }
   ],
   "source": [
    "print(t3.shape)"
   ]
  },
  {
   "cell_type": "code",
   "execution_count": 10,
   "id": "e90089d2-ac03-4b6f-a6b0-8f97af1ea580",
   "metadata": {},
   "outputs": [
    {
     "name": "stdout",
     "output_type": "stream",
     "text": [
      "torch.Size([2, 2, 3])\n"
     ]
    }
   ],
   "source": [
    "print(t4.shape)"
   ]
  },
  {
   "cell_type": "markdown",
   "id": "701dcb34-1393-41bd-8f54-4d17b2879872",
   "metadata": {},
   "source": [
    "TENSOR OPERATIONS AND GRADIENTS "
   ]
  },
  {
   "cell_type": "code",
   "execution_count": 11,
   "id": "85f1a21e-5d68-4743-9a46-5f95b07e1b0d",
   "metadata": {},
   "outputs": [
    {
     "data": {
      "text/plain": [
       "(tensor(3.), tensor(4., requires_grad=True), tensor(5., requires_grad=True))"
      ]
     },
     "execution_count": 11,
     "metadata": {},
     "output_type": "execute_result"
    }
   ],
   "source": [
    "#create tensors \n",
    "\n",
    "x = torch.tensor(3.)\n",
    "w = torch.tensor(4.,requires_grad = True)\n",
    "b = torch.tensor(5.,requires_grad = True)\n",
    "x , w , b"
   ]
  },
  {
   "cell_type": "code",
   "execution_count": 12,
   "id": "af0982d2-746a-4d7f-b195-a3930207f96e",
   "metadata": {},
   "outputs": [
    {
     "data": {
      "text/plain": [
       "tensor(17., grad_fn=<AddBackward0>)"
      ]
     },
     "execution_count": 12,
     "metadata": {},
     "output_type": "execute_result"
    }
   ],
   "source": [
    "# Arithmetic operators \n",
    "y = w*x + b\n",
    "y"
   ]
  },
  {
   "cell_type": "code",
   "execution_count": 13,
   "id": "357de076-541b-42ce-b662-1ade98f6e98b",
   "metadata": {},
   "outputs": [],
   "source": [
    "# compute derivatives \n",
    "y.backward()"
   ]
  },
  {
   "cell_type": "code",
   "execution_count": 14,
   "id": "26933f12-dc3d-4810-896f-87d7ec4fbcd5",
   "metadata": {},
   "outputs": [
    {
     "name": "stdout",
     "output_type": "stream",
     "text": [
      "dy/dx: None\n",
      "dy/dw: tensor(3.)\n",
      "dy/db: tensor(1.)\n"
     ]
    }
   ],
   "source": [
    "# Display Gradients \n",
    "print('dy/dx:',x.grad)\n",
    "print('dy/dw:',w.grad)\n",
    "print('dy/db:',b.grad)"
   ]
  },
  {
   "cell_type": "markdown",
   "id": "4a4a81ff-cb8f-483d-866a-1e785fad3d2e",
   "metadata": {},
   "source": [
    "INTER-OPERABILITY WITH NUMPY "
   ]
  },
  {
   "cell_type": "code",
   "execution_count": 15,
   "id": "d17187a1-832b-45c1-95b4-dd46068b50e8",
   "metadata": {},
   "outputs": [
    {
     "data": {
      "text/plain": [
       "array([[1., 2.],\n",
       "       [3., 4.]])"
      ]
     },
     "execution_count": 15,
     "metadata": {},
     "output_type": "execute_result"
    }
   ],
   "source": [
    "import numpy as np \n",
    "\n",
    "x = np.array([[1.,2],[3,4]])\n",
    "x"
   ]
  },
  {
   "cell_type": "code",
   "execution_count": 16,
   "id": "756df8ee-ed79-4373-8520-1c66b5f7b5f9",
   "metadata": {},
   "outputs": [
    {
     "data": {
      "text/plain": [
       "tensor([[1., 2.],\n",
       "        [3., 4.]], dtype=torch.float64)"
      ]
     },
     "execution_count": 16,
     "metadata": {},
     "output_type": "execute_result"
    }
   ],
   "source": [
    "y = torch.from_numpy(x)\n",
    "y"
   ]
  },
  {
   "cell_type": "code",
   "execution_count": 17,
   "id": "46c40992-a6c7-459c-9431-380aa224167f",
   "metadata": {},
   "outputs": [
    {
     "data": {
      "text/plain": [
       "(dtype('float64'), torch.float64)"
      ]
     },
     "execution_count": 17,
     "metadata": {},
     "output_type": "execute_result"
    }
   ],
   "source": [
    "x.dtype , y.dtype"
   ]
  },
  {
   "cell_type": "code",
   "execution_count": 18,
   "id": "e93e732e-510b-4adb-97a0-84714add7402",
   "metadata": {},
   "outputs": [
    {
     "data": {
      "text/plain": [
       "array([[1., 2.],\n",
       "       [3., 4.]])"
      ]
     },
     "execution_count": 18,
     "metadata": {},
     "output_type": "execute_result"
    }
   ],
   "source": [
    "# convert a torch tensor to a numpy array \n",
    "\n",
    "z = y.numpy()\n",
    "z"
   ]
  },
  {
   "cell_type": "markdown",
   "id": "141378ce-7837-4fe0-bebd-1b5251ffb86d",
   "metadata": {},
   "source": [
    "GRADIENT DESCENT AND LINEAR REGRESSION WITH PYTORCH"
   ]
  },
  {
   "cell_type": "code",
   "execution_count": 19,
   "id": "abe74bcd-1812-4a9b-bbdc-70afbc60f006",
   "metadata": {},
   "outputs": [],
   "source": [
    "import numpy as np\n",
    "import torch"
   ]
  },
  {
   "cell_type": "code",
   "execution_count": 20,
   "id": "f0de3956-3e27-4429-929d-6e19e34ba956",
   "metadata": {},
   "outputs": [],
   "source": [
    "# Input (temp, rainfall, humidity)\n",
    "inputs = np.array([[73, 67, 43], \n",
    "                   [91, 88, 64], \n",
    "                   [87, 134, 58], \n",
    "                   [102, 43, 37], \n",
    "                   [69, 96, 70]], dtype='float32')"
   ]
  },
  {
   "cell_type": "code",
   "execution_count": 21,
   "id": "29ca92bf-c3cc-48ed-808b-45a2eafa091b",
   "metadata": {
    "tags": []
   },
   "outputs": [],
   "source": [
    "# Targets (apples, oranges)\n",
    "targets = np.array([[56, 70], \n",
    "                    [81, 101], \n",
    "                    [119, 133], \n",
    "                    [22, 37], \n",
    "                    [103, 119]], dtype='float32')"
   ]
  },
  {
   "cell_type": "code",
   "execution_count": 22,
   "id": "7c5589a3-16ee-4901-b735-e4a29810ea05",
   "metadata": {},
   "outputs": [
    {
     "name": "stdout",
     "output_type": "stream",
     "text": [
      "(5, 3)\n",
      "(5, 2)\n"
     ]
    }
   ],
   "source": [
    "print(inputs.shape); print(targets.shape)"
   ]
  },
  {
   "cell_type": "code",
   "execution_count": 23,
   "id": "c68ad2d9-d939-4919-8580-d3d5c74395f0",
   "metadata": {},
   "outputs": [
    {
     "name": "stdout",
     "output_type": "stream",
     "text": [
      "tensor([[ 73.,  67.,  43.],\n",
      "        [ 91.,  88.,  64.],\n",
      "        [ 87., 134.,  58.],\n",
      "        [102.,  43.,  37.],\n",
      "        [ 69.,  96.,  70.]])\n",
      "tensor([[ 56.,  70.],\n",
      "        [ 81., 101.],\n",
      "        [119., 133.],\n",
      "        [ 22.,  37.],\n",
      "        [103., 119.]])\n"
     ]
    }
   ],
   "source": [
    "# Convert inputs and targets to tensors\n",
    "inputs = torch.from_numpy(inputs)\n",
    "targets = torch.from_numpy(targets)\n",
    "print(inputs)\n",
    "print(targets)\n",
    "\n"
   ]
  },
  {
   "cell_type": "markdown",
   "id": "186a3ec0-032c-43e3-85e0-d539df8b94c2",
   "metadata": {},
   "source": [
    "LINEAR REGRESSION MODEL FROM SCRATCH "
   ]
  },
  {
   "cell_type": "code",
   "execution_count": 24,
   "id": "f19acae8-50ad-4c59-8e3f-d2ab942f28fc",
   "metadata": {},
   "outputs": [
    {
     "name": "stdout",
     "output_type": "stream",
     "text": [
      "tensor([[-0.6744, -0.0765, -0.4432],\n",
      "        [-1.3598, -0.1605,  0.6757]], requires_grad=True)\n",
      "tensor([-0.7161, -0.7043], requires_grad=True)\n"
     ]
    }
   ],
   "source": [
    "# weights and biases \n",
    "\n",
    "w = torch.randn(2,3,requires_grad = True)\n",
    "b = torch.randn(2, requires_grad = True)\n",
    "print(w)\n",
    "print(b)"
   ]
  },
  {
   "cell_type": "code",
   "execution_count": 25,
   "id": "bb4e33f7-6050-4250-bbc1-a30cb134109e",
   "metadata": {},
   "outputs": [],
   "source": [
    "def models(x):\n",
    "    return x @ w.t() + b"
   ]
  },
  {
   "cell_type": "code",
   "execution_count": 26,
   "id": "98af31c0-ad66-4490-a6b0-78ee0066306e",
   "metadata": {},
   "outputs": [
    {
     "name": "stdout",
     "output_type": "stream",
     "text": [
      "tensor([[ -74.1294,  -81.6709],\n",
      "        [ -97.1821,  -95.3291],\n",
      "        [ -95.3438, -101.3281],\n",
      "        [ -89.1918, -121.3066],\n",
      "        [ -85.6167,  -62.6436]], grad_fn=<AddBackward0>)\n"
     ]
    }
   ],
   "source": [
    "# Generate Predictions\n",
    "\n",
    "preds = models(inputs)\n",
    "print(preds)"
   ]
  },
  {
   "cell_type": "code",
   "execution_count": 27,
   "id": "52b3bf5f-5a58-4b82-8f37-33fa8b9a3db4",
   "metadata": {},
   "outputs": [
    {
     "name": "stdout",
     "output_type": "stream",
     "text": [
      "tensor([[ 56.,  70.],\n",
      "        [ 81., 101.],\n",
      "        [119., 133.],\n",
      "        [ 22.,  37.],\n",
      "        [103., 119.]])\n"
     ]
    }
   ],
   "source": [
    "print(targets)"
   ]
  },
  {
   "cell_type": "code",
   "execution_count": 28,
   "id": "24c4d929-9c10-4797-9cfe-0ecca6b6ee9e",
   "metadata": {},
   "outputs": [],
   "source": [
    "# Mean-Square Error Loss\n",
    "def mse(t1,t2):\n",
    "    diff = t1 - t2 \n",
    "    return torch.sum(diff * diff) / diff.numel()"
   ]
  },
  {
   "cell_type": "code",
   "execution_count": 29,
   "id": "e3932bae-f762-4c7f-a43f-a0edcad14afa",
   "metadata": {},
   "outputs": [
    {
     "name": "stdout",
     "output_type": "stream",
     "text": [
      "tensor(31707.9844, grad_fn=<DivBackward0>)\n"
     ]
    }
   ],
   "source": [
    "# compute loss\n",
    "loss = mse(preds , targets)\n",
    "print(loss)"
   ]
  },
  {
   "cell_type": "raw",
   "id": "96ea7f39-c76b-49d3-9acd-ec3dbd0333e6",
   "metadata": {},
   "source": [
    "Here’s how we can interpret the result: *On average, each element in the prediction differs from the actual target by the square root of the loss*. And that’s pretty bad, considering the numbers we are trying to predict are themselves in the range 50–200. The result is called the *loss* because it indicates how bad the model is at predicting the target variables. It represents information loss in the model: the lower the loss, the better the model."
   ]
  },
  {
   "cell_type": "code",
   "execution_count": 30,
   "id": "06406d61-6000-439c-9ee0-2b9420e23ef6",
   "metadata": {},
   "outputs": [],
   "source": [
    "loss.backward()"
   ]
  },
  {
   "cell_type": "code",
   "execution_count": 31,
   "id": "334f1926-f966-47b1-9ef3-0e5a9f626ad7",
   "metadata": {},
   "outputs": [
    {
     "name": "stdout",
     "output_type": "stream",
     "text": [
      "tensor([[-0.6744, -0.0765, -0.4432],\n",
      "        [-1.3598, -0.1605,  0.6757]], requires_grad=True)\n",
      "tensor([[-13743.6074, -15201.8418,  -9349.6836],\n",
      "        [-15601.0312, -16616.7695, -10250.0684]])\n"
     ]
    }
   ],
   "source": [
    "print(w)\n",
    "print(w.grad)"
   ]
  },
  {
   "cell_type": "raw",
   "id": "c1f117d3-21aa-44f0-aa75-66c2814956d2",
   "metadata": {},
   "source": [
    "Adjusts weights and Biases to reduce the loss "
   ]
  },
  {
   "cell_type": "code",
   "execution_count": 32,
   "id": "7e211027-8e71-4505-8016-1fe6c5865745",
   "metadata": {},
   "outputs": [
    {
     "name": "stdout",
     "output_type": "stream",
     "text": [
      "tensor(31707.9844, grad_fn=<DivBackward0>)\n"
     ]
    }
   ],
   "source": [
    "# lets verfiy that loss is actually lower \n",
    "loss = mse(preds,targets)\n",
    "print(loss)"
   ]
  },
  {
   "cell_type": "raw",
   "id": "27ee6d19-3985-48db-93ed-8dc584dd51f4",
   "metadata": {},
   "source": [
    "Before we proceed , we reset he gradients to zero by invoking the .zero_() method .  We need to do this because PyTorch accumulates gradients . Otherwise \n",
    "the next time we invoke .backward on the loss the new gradient values are added to the existing gradients , which may lead to unexpected results . "
   ]
  },
  {
   "cell_type": "code",
   "execution_count": 33,
   "id": "3f7f39a2-d10b-486c-afa8-128f0c7fb663",
   "metadata": {},
   "outputs": [
    {
     "name": "stdout",
     "output_type": "stream",
     "text": [
      "tensor([[0., 0., 0.],\n",
      "        [0., 0., 0.]])\n",
      "tensor([0., 0.])\n"
     ]
    }
   ],
   "source": [
    "w.grad.zero_()\n",
    "b.grad.zero_()\n",
    "print(w.grad)\n",
    "print(b.grad)"
   ]
  },
  {
   "cell_type": "raw",
   "id": "445b4ccd-f611-4e5e-a667-e1be5fc4d84c",
   "metadata": {},
   "source": [
    "Train the model using gradient descent "
   ]
  },
  {
   "cell_type": "code",
   "execution_count": 34,
   "id": "7578efbe-3c46-4360-a44c-b880c891a9c6",
   "metadata": {},
   "outputs": [
    {
     "name": "stdout",
     "output_type": "stream",
     "text": [
      "tensor([[ -74.1294,  -81.6709],\n",
      "        [ -97.1821,  -95.3291],\n",
      "        [ -95.3438, -101.3281],\n",
      "        [ -89.1918, -121.3066],\n",
      "        [ -85.6167,  -62.6436]], grad_fn=<AddBackward0>)\n"
     ]
    }
   ],
   "source": [
    "# Generate Predictions \n",
    "preds = models(inputs)\n",
    "print(preds)"
   ]
  },
  {
   "cell_type": "code",
   "execution_count": 35,
   "id": "30f48aff-cb53-4f71-96ed-5be8d8b55c68",
   "metadata": {},
   "outputs": [
    {
     "name": "stdout",
     "output_type": "stream",
     "text": [
      "tensor(31707.9844, grad_fn=<DivBackward0>)\n"
     ]
    }
   ],
   "source": [
    "# Calculate the loss \n",
    "loss = mse(preds,targets)\n",
    "print(loss)"
   ]
  },
  {
   "cell_type": "code",
   "execution_count": 36,
   "id": "d70d2dee-4cbb-465c-8418-479acab2cd81",
   "metadata": {},
   "outputs": [
    {
     "name": "stdout",
     "output_type": "stream",
     "text": [
      "tensor([[-13743.6074, -15201.8418,  -9349.6836],\n",
      "        [-15601.0312, -16616.7695, -10250.0684]])\n",
      "tensor([-164.4928, -184.4557])\n"
     ]
    }
   ],
   "source": [
    "# compute gradients\n",
    "loss.backward()\n",
    "print(w.grad)\n",
    "print(b.grad)"
   ]
  },
  {
   "cell_type": "code",
   "execution_count": 37,
   "id": "15192be2-0514-4653-8eb6-088d93bcc252",
   "metadata": {},
   "outputs": [],
   "source": [
    "# Adjust the weights and reset gradients\n",
    "\n",
    "with torch.no_grad():\n",
    "    w -= w.grad * 1e-5\n",
    "    b -= b.grad * 1e-5\n",
    "    w.grad.zero_()\n",
    "    b.grad.zero_()"
   ]
  },
  {
   "cell_type": "code",
   "execution_count": 38,
   "id": "e3002adf-42fd-4651-8fd8-518647e8f915",
   "metadata": {},
   "outputs": [
    {
     "name": "stdout",
     "output_type": "stream",
     "text": [
      "tensor([[-0.5370,  0.0755, -0.3497],\n",
      "        [-1.2038,  0.0056,  0.7782]], requires_grad=True)\n",
      "tensor([-0.7145, -0.7025], requires_grad=True)\n"
     ]
    }
   ],
   "source": [
    "print(w)\n",
    "print(b)"
   ]
  },
  {
   "cell_type": "code",
   "execution_count": 39,
   "id": "05aecfca-f8a0-42c9-80e9-da242b8d6be5",
   "metadata": {},
   "outputs": [
    {
     "name": "stdout",
     "output_type": "stream",
     "text": [
      "tensor(21401.2637, grad_fn=<DivBackward0>)\n"
     ]
    }
   ],
   "source": [
    "# calculate loss\n",
    "preds = models(inputs)\n",
    "loss = mse(preds,targets)\n",
    "print(loss)"
   ]
  },
  {
   "cell_type": "raw",
   "id": "5c0c1208-8562-4088-ac87-e0185d071b44",
   "metadata": {},
   "source": [
    "Train for multiple Epochs"
   ]
  },
  {
   "cell_type": "code",
   "execution_count": 40,
   "id": "217318b1-14bb-439d-ac98-698eae58d0da",
   "metadata": {},
   "outputs": [],
   "source": [
    "# Train for 100 epochs\n",
    "for i in range(100):\n",
    "    preds = models(inputs)\n",
    "    loss = mse(preds , targets)\n",
    "    loss.backward()\n",
    "    with torch.no_grad():\n",
    "        w -= w.grad * 1e-5\n",
    "        b -= b.grad * 1e-5\n",
    "        w.grad.zero_()\n",
    "        b.grad.zero_()"
   ]
  },
  {
   "cell_type": "code",
   "execution_count": 41,
   "id": "9b33d4d3-b6d4-423b-beaf-2ccdd50ea518",
   "metadata": {},
   "outputs": [
    {
     "name": "stdout",
     "output_type": "stream",
     "text": [
      "tensor(43.6694, grad_fn=<DivBackward0>)\n"
     ]
    }
   ],
   "source": [
    "preds = models(inputs)\n",
    "loss = mse(preds , targets)\n",
    "print(loss)"
   ]
  },
  {
   "cell_type": "code",
   "execution_count": 42,
   "id": "4aca9a17-e888-4d51-9721-71c6f1b8b20b",
   "metadata": {},
   "outputs": [
    {
     "data": {
      "text/plain": [
       "tensor([[ 59.5137,  69.2744],\n",
       "        [ 79.8532, 102.4450],\n",
       "        [120.2682, 130.5831],\n",
       "        [ 35.0235,  31.9257],\n",
       "        [ 89.5501, 125.0587]], grad_fn=<AddBackward0>)"
      ]
     },
     "execution_count": 42,
     "metadata": {},
     "output_type": "execute_result"
    }
   ],
   "source": [
    "# predictions\n",
    "preds"
   ]
  },
  {
   "cell_type": "code",
   "execution_count": 43,
   "id": "64e075f7-1172-442c-b7df-a3dab77edb6a",
   "metadata": {},
   "outputs": [
    {
     "data": {
      "text/plain": [
       "tensor([[ 56.,  70.],\n",
       "        [ 81., 101.],\n",
       "        [119., 133.],\n",
       "        [ 22.,  37.],\n",
       "        [103., 119.]])"
      ]
     },
     "execution_count": 43,
     "metadata": {},
     "output_type": "execute_result"
    }
   ],
   "source": [
    "# targets \n",
    "targets"
   ]
  },
  {
   "cell_type": "raw",
   "id": "0ec59642-8809-49e7-918f-d765a30fe2c8",
   "metadata": {},
   "source": [
    "Linear Regression using PyTorch built-ins"
   ]
  },
  {
   "cell_type": "code",
   "execution_count": 44,
   "id": "06c47373-611e-4310-9540-ff90db1dbf49",
   "metadata": {},
   "outputs": [],
   "source": [
    "import torch.nn as nn"
   ]
  },
  {
   "cell_type": "code",
   "execution_count": 45,
   "id": "87c39245-f957-4a09-b550-4e1178667d4f",
   "metadata": {},
   "outputs": [],
   "source": [
    "# Input (temp, rainfall, humidity)\n",
    "inputs = np.array([[73, 67, 43], \n",
    "                   [91, 88, 64], \n",
    "                   [87, 134, 58], \n",
    "                   [102, 43, 37], \n",
    "                   [69, 96, 70], \n",
    "                   [74, 66, 43], \n",
    "                   [91, 87, 65], \n",
    "                   [88, 134, 59], \n",
    "                   [101, 44, 37], \n",
    "                   [68, 96, 71], \n",
    "                   [73, 66, 44], \n",
    "                   [92, 87, 64], \n",
    "                   [87, 135, 57], \n",
    "                   [103, 43, 36], \n",
    "                   [68, 97, 70]], \n",
    "                  dtype='float32')\n",
    "\n",
    "# Targets (apples, oranges)\n",
    "targets = np.array([[56, 70], \n",
    "                    [81, 101], \n",
    "                    [119, 133], \n",
    "                    [22, 37], \n",
    "                    [103, 119],\n",
    "                    [57, 69], \n",
    "                    [80, 102], \n",
    "                    [118, 132], \n",
    "                    [21, 38], \n",
    "                    [104, 118], \n",
    "                    [57, 69], \n",
    "                    [82, 100], \n",
    "                    [118, 134], \n",
    "                    [20, 38], \n",
    "                    [102, 120]], \n",
    "                   dtype='float32')\n",
    "\n",
    "inputs = torch.from_numpy(inputs)\n",
    "targets = torch.from_numpy(targets)"
   ]
  },
  {
   "cell_type": "code",
   "execution_count": 46,
   "id": "039106ee-c5b4-46ae-9801-cd5c7991ba9d",
   "metadata": {},
   "outputs": [
    {
     "data": {
      "text/plain": [
       "tensor([[ 73.,  67.,  43.],\n",
       "        [ 91.,  88.,  64.],\n",
       "        [ 87., 134.,  58.],\n",
       "        [102.,  43.,  37.],\n",
       "        [ 69.,  96.,  70.],\n",
       "        [ 74.,  66.,  43.],\n",
       "        [ 91.,  87.,  65.],\n",
       "        [ 88., 134.,  59.],\n",
       "        [101.,  44.,  37.],\n",
       "        [ 68.,  96.,  71.],\n",
       "        [ 73.,  66.,  44.],\n",
       "        [ 92.,  87.,  64.],\n",
       "        [ 87., 135.,  57.],\n",
       "        [103.,  43.,  36.],\n",
       "        [ 68.,  97.,  70.]])"
      ]
     },
     "execution_count": 46,
     "metadata": {},
     "output_type": "execute_result"
    }
   ],
   "source": [
    "inputs"
   ]
  },
  {
   "cell_type": "code",
   "execution_count": 47,
   "id": "99c88eea-8041-4369-bfc9-357d2887ae3d",
   "metadata": {},
   "outputs": [
    {
     "data": {
      "text/plain": [
       "tensor([[ 56.,  70.],\n",
       "        [ 81., 101.],\n",
       "        [119., 133.],\n",
       "        [ 22.,  37.],\n",
       "        [103., 119.],\n",
       "        [ 57.,  69.],\n",
       "        [ 80., 102.],\n",
       "        [118., 132.],\n",
       "        [ 21.,  38.],\n",
       "        [104., 118.],\n",
       "        [ 57.,  69.],\n",
       "        [ 82., 100.],\n",
       "        [118., 134.],\n",
       "        [ 20.,  38.],\n",
       "        [102., 120.]])"
      ]
     },
     "execution_count": 47,
     "metadata": {},
     "output_type": "execute_result"
    }
   ],
   "source": [
    "targets"
   ]
  },
  {
   "cell_type": "raw",
   "id": "d1498233-b632-4e58-a2c8-37eba45fb2d0",
   "metadata": {},
   "source": [
    "DataSet And DataLoader"
   ]
  },
  {
   "cell_type": "code",
   "execution_count": 48,
   "id": "98a895e9-e412-4b60-9642-7515b6ba3fb1",
   "metadata": {},
   "outputs": [],
   "source": [
    "from torch.utils.data import TensorDataset"
   ]
  },
  {
   "cell_type": "code",
   "execution_count": 49,
   "id": "259e4ccf-917a-4fb6-a5d7-f3debffcbb5f",
   "metadata": {},
   "outputs": [
    {
     "data": {
      "text/plain": [
       "(tensor([[ 73.,  67.,  43.],\n",
       "         [ 91.,  88.,  64.],\n",
       "         [ 87., 134.,  58.]]),\n",
       " tensor([[ 56.,  70.],\n",
       "         [ 81., 101.],\n",
       "         [119., 133.]]))"
      ]
     },
     "execution_count": 49,
     "metadata": {},
     "output_type": "execute_result"
    }
   ],
   "source": [
    "# Define dataset \n",
    "train_ds = TensorDataset(inputs , targets)\n",
    "train_ds[0:3]"
   ]
  },
  {
   "cell_type": "code",
   "execution_count": 50,
   "id": "ab74470f-d4f9-43d2-816a-c5dc03ad790f",
   "metadata": {},
   "outputs": [],
   "source": [
    "from torch.utils.data import DataLoader"
   ]
  },
  {
   "cell_type": "code",
   "execution_count": 51,
   "id": "3c1f51ef-63a6-4f05-8453-ab744e4cb5dd",
   "metadata": {},
   "outputs": [],
   "source": [
    "# define DataLoader\n",
    "batch_size = 5\n",
    "train_dl = DataLoader(train_ds , batch_size, shuffle = True)"
   ]
  },
  {
   "cell_type": "code",
   "execution_count": 52,
   "id": "a522f509-b8f6-42f0-9515-db8ded6050e6",
   "metadata": {},
   "outputs": [
    {
     "name": "stdout",
     "output_type": "stream",
     "text": [
      "tensor([[103.,  43.,  36.],\n",
      "        [ 91.,  87.,  65.],\n",
      "        [ 87., 135.,  57.],\n",
      "        [ 73.,  66.,  44.],\n",
      "        [ 91.,  88.,  64.]])\n",
      "tensor([[ 20.,  38.],\n",
      "        [ 80., 102.],\n",
      "        [118., 134.],\n",
      "        [ 57.,  69.],\n",
      "        [ 81., 101.]])\n"
     ]
    }
   ],
   "source": [
    "for xb , yb in train_dl :\n",
    "    print(xb)\n",
    "    print(yb)\n",
    "    break"
   ]
  },
  {
   "cell_type": "raw",
   "id": "94f43ce6-875d-45de-9928-de5e2a20b259",
   "metadata": {},
   "source": [
    "nn.Linear"
   ]
  },
  {
   "cell_type": "code",
   "execution_count": 53,
   "id": "78019e51-1398-41d9-a64f-ef6d47cea77b",
   "metadata": {},
   "outputs": [
    {
     "name": "stdout",
     "output_type": "stream",
     "text": [
      "Parameter containing:\n",
      "tensor([[ 0.1095,  0.4674, -0.5473],\n",
      "        [-0.4890,  0.4928, -0.4233]], requires_grad=True)\n",
      "Parameter containing:\n",
      "tensor([0.3466, 0.4846], requires_grad=True)\n"
     ]
    }
   ],
   "source": [
    "# Define Model\n",
    "model = nn.Linear(3,2)\n",
    "print(model.weight)\n",
    "print(model.bias)"
   ]
  },
  {
   "cell_type": "code",
   "execution_count": 54,
   "id": "814a2ba8-c189-4a2e-8e46-dee95603c427",
   "metadata": {},
   "outputs": [
    {
     "data": {
      "text/plain": [
       "[Parameter containing:\n",
       " tensor([[ 0.1095,  0.4674, -0.5473],\n",
       "         [-0.4890,  0.4928, -0.4233]], requires_grad=True),\n",
       " Parameter containing:\n",
       " tensor([0.3466, 0.4846], requires_grad=True)]"
      ]
     },
     "execution_count": 54,
     "metadata": {},
     "output_type": "execute_result"
    }
   ],
   "source": [
    "# Parameters\n",
    "list(model.parameters())"
   ]
  },
  {
   "cell_type": "code",
   "execution_count": 55,
   "id": "43f7ccca-a3a7-43b3-8577-4557b52f5a53",
   "metadata": {},
   "outputs": [
    {
     "data": {
      "text/plain": [
       "tensor([[ 16.1225, -20.3930],\n",
       "        [ 16.4159, -27.7340],\n",
       "        [ 40.7598,  -0.5674],\n",
       "        [ 11.3657, -43.8634],\n",
       "        [ 14.4617, -15.5723],\n",
       "        [ 15.7647, -21.3749],\n",
       "        [ 15.4013, -28.6501],\n",
       "        [ 40.3221,  -1.4796],\n",
       "        [ 11.7235, -42.8815],\n",
       "        [ 13.8049, -15.5065],\n",
       "        [ 15.1079, -21.3091],\n",
       "        [ 16.0581, -28.7158],\n",
       "        [ 41.7744,   0.3487],\n",
       "        [ 12.0225, -43.9292],\n",
       "        [ 14.8195, -14.5904]], grad_fn=<AddmmBackward0>)"
      ]
     },
     "execution_count": 55,
     "metadata": {},
     "output_type": "execute_result"
    }
   ],
   "source": [
    "# Generate Predictions \n",
    "preds = model(inputs)\n",
    "preds"
   ]
  },
  {
   "cell_type": "raw",
   "id": "23b2f591-c20c-4ad2-a27c-db1f91ec4ebe",
   "metadata": {},
   "source": [
    "Loss Function"
   ]
  },
  {
   "cell_type": "code",
   "execution_count": 56,
   "id": "9c03fe2f-08f8-495e-9630-3ae27b8526d0",
   "metadata": {},
   "outputs": [],
   "source": [
    "import torch.nn.functional as F"
   ]
  },
  {
   "cell_type": "code",
   "execution_count": 57,
   "id": "de9218e5-721c-4ea1-869c-d0f1623b3574",
   "metadata": {},
   "outputs": [],
   "source": [
    "# define loss function\n",
    "loss_fn = F.mse_loss"
   ]
  },
  {
   "cell_type": "code",
   "execution_count": 58,
   "id": "025028a0-d3bd-4382-8788-f7b82b80b13d",
   "metadata": {},
   "outputs": [
    {
     "name": "stdout",
     "output_type": "stream",
     "text": [
      "tensor(48.7668, grad_fn=<MseLossBackward0>)\n"
     ]
    }
   ],
   "source": [
    "loss = loss_fn(models(inputs) , targets)\n",
    "print(loss)"
   ]
  },
  {
   "cell_type": "raw",
   "id": "0ad90fdf-0668-4cc6-b5de-aed212b2293f",
   "metadata": {},
   "source": [
    "Optimizer"
   ]
  },
  {
   "cell_type": "code",
   "execution_count": 59,
   "id": "eb070fee-524c-43a3-bf71-000ce25e4803",
   "metadata": {},
   "outputs": [],
   "source": [
    "# Define optimizer \n",
    "opt = torch.optim.SGD(model.parameters() , lr = 1e-5)"
   ]
  },
  {
   "cell_type": "raw",
   "id": "98464848-29f7-4fc1-88ae-597fa153406a",
   "metadata": {},
   "source": [
    "Train the model :\n",
    "\n",
    "1. Generate predictions\n",
    "2. calculate loss \n",
    "3. compute the gradients w.r.t the weights and biases \n",
    "4. Adjust the weights by subtracting a small quantity proportional to the        gradinet .\n",
    "5. Reset the gradients to zero ."
   ]
  },
  {
   "cell_type": "code",
   "execution_count": null,
   "id": "d9bacc29-104c-47c2-9415-067f356c6ea4",
   "metadata": {},
   "outputs": [],
   "source": [
    "# Utility function to train the model \n",
    "def fit(num_epochs , model , loss_fn , opt , train_dl):\n",
    "    \n",
    "    # Repeat for given number of epochs\n",
    "    for epochs in range(num_epochs):\n",
    "        \n",
    "        # Train with batchesof data \n",
    "        for xb,yb in train_dl:\n",
    "            \n",
    "            # 1. Generate Predictions\n",
    "            pred = models(xb)\n",
    "            \n",
    "            # 2. calculate loss \n",
    "            loss = loss_fn(pred , yb)\n",
    "            \n",
    "            "
   ]
  }
 ],
 "metadata": {
  "kernelspec": {
   "display_name": "Python 3 (ipykernel)",
   "language": "python",
   "name": "python3"
  },
  "language_info": {
   "codemirror_mode": {
    "name": "ipython",
    "version": 3
   },
   "file_extension": ".py",
   "mimetype": "text/x-python",
   "name": "python",
   "nbconvert_exporter": "python",
   "pygments_lexer": "ipython3",
   "version": "3.10.9"
  }
 },
 "nbformat": 4,
 "nbformat_minor": 5
}
