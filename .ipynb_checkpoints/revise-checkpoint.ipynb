{
 "cells": [
  {
   "cell_type": "code",
   "execution_count": 2,
   "id": "83f3a1a5-c69e-45ff-a111-36da00f828cd",
   "metadata": {},
   "outputs": [],
   "source": [
    "import numpy as np"
   ]
  },
  {
   "cell_type": "code",
   "execution_count": 3,
   "id": "d8fbbf61-eaf5-43db-9858-a8e7aa815260",
   "metadata": {},
   "outputs": [],
   "source": [
    "import torch"
   ]
  },
  {
   "cell_type": "code",
   "execution_count": 4,
   "id": "f6487f71-f050-4b89-b0b6-7c052a218804",
   "metadata": {},
   "outputs": [],
   "source": [
    "# Inputs ( temp , rainfall , humidity)\n",
    "inputs = np.array([[73,67,43],\n",
    "                   [91,88,64],\n",
    "                  [87,134,58],\n",
    "                  [102,43,37],\n",
    "                  [69,96,70]],dtype='float32')"
   ]
  },
  {
   "cell_type": "code",
   "execution_count": 5,
   "id": "c1617ffb-454c-4d89-a0f0-1c31948ed30a",
   "metadata": {},
   "outputs": [],
   "source": [
    "# Targets (apples, oranges)\n",
    "targets = np.array([[56, 70], \n",
    "                    [81, 101], \n",
    "                    [119, 133], \n",
    "                    [22, 37], \n",
    "                    [103, 119]], dtype='float32')"
   ]
  },
  {
   "cell_type": "code",
   "execution_count": 6,
   "id": "7d135b2a-f095-4b5d-a53b-6d2546d504fb",
   "metadata": {},
   "outputs": [
    {
     "name": "stdout",
     "output_type": "stream",
     "text": [
      "tensor([[ 73.,  67.,  43.],\n",
      "        [ 91.,  88.,  64.],\n",
      "        [ 87., 134.,  58.],\n",
      "        [102.,  43.,  37.],\n",
      "        [ 69.,  96.,  70.]])\n",
      "tensor([[ 56.,  70.],\n",
      "        [ 81., 101.],\n",
      "        [119., 133.],\n",
      "        [ 22.,  37.],\n",
      "        [103., 119.]])\n"
     ]
    }
   ],
   "source": [
    "# convert inputs and targets to tensors\n",
    "inputs = torch.from_numpy(inputs)\n",
    "targets = torch.from_numpy(targets)\n",
    "\n",
    "print(inputs)\n",
    "print(targets)"
   ]
  },
  {
   "cell_type": "raw",
   "id": "0b01a93d-00a5-4bfa-9936-8988fc263f14",
   "metadata": {},
   "source": [
    "Linear Regression from Scratch "
   ]
  },
  {
   "cell_type": "code",
   "execution_count": 7,
   "id": "d0ece0b7-ce80-4291-bc37-573067b28afb",
   "metadata": {},
   "outputs": [
    {
     "name": "stdout",
     "output_type": "stream",
     "text": [
      "tensor([[ 0.6385, -1.3241,  0.7572],\n",
      "        [ 1.7492, -0.0939, -0.1655]], requires_grad=True)\n",
      "tensor([-0.3452,  0.0779], requires_grad=True)\n"
     ]
    }
   ],
   "source": [
    "# Weights and Biases \n",
    "w = torch.randn(2,3,requires_grad=True)\n",
    "b = torch.randn(2,requires_grad=True)\n",
    "print(w)\n",
    "print(b)"
   ]
  },
  {
   "cell_type": "raw",
   "id": "4e400fcc-a066-4307-9ab9-61e61b82a793",
   "metadata": {},
   "source": [
    "torch.randn creates a tensor with given shape , with elements picked randomly \n",
    "from a normal distribution with mean 0 and standard deviation 1 ."
   ]
  },
  {
   "cell_type": "code",
   "execution_count": 8,
   "id": "1a313643-9281-4b4a-91a1-3b00d606f423",
   "metadata": {},
   "outputs": [],
   "source": [
    "def model(x):\n",
    "    return x @ w.t() + b "
   ]
  },
  {
   "cell_type": "raw",
   "id": "a3994908-1115-4edf-a9b3-3d0ecd40334e",
   "metadata": {},
   "source": [
    "@ --> stands for matrix multiplication\n",
    "t() --> stands for transpose of a matrix "
   ]
  },
  {
   "cell_type": "code",
   "execution_count": 10,
   "id": "abe32cf0-5ab2-4b23-9432-492ba1bf0fe2",
   "metadata": {},
   "outputs": [
    {
     "name": "stdout",
     "output_type": "stream",
     "text": [
      "tensor([[ -9.8885, 114.3631],\n",
      "        [-10.3006, 140.4018],\n",
      "        [-78.3065, 130.0772],\n",
      "        [ 35.8648, 168.3379],\n",
      "        [-30.3985, 100.1745]], grad_fn=<AddBackward0>)\n"
     ]
    }
   ],
   "source": [
    "# Generate Predictions \n",
    "\n",
    "preds = model(inputs)\n",
    "print(preds)"
   ]
  },
  {
   "cell_type": "code",
   "execution_count": 11,
   "id": "f6283a56-146e-4204-b8f6-36b6be5e9290",
   "metadata": {},
   "outputs": [
    {
     "name": "stdout",
     "output_type": "stream",
     "text": [
      "tensor([[ 56.,  70.],\n",
      "        [ 81., 101.],\n",
      "        [119., 133.],\n",
      "        [ 22.,  37.],\n",
      "        [103., 119.]])\n"
     ]
    }
   ],
   "source": [
    "print(targets)"
   ]
  },
  {
   "cell_type": "raw",
   "id": "cb0f7d20-ba0d-4e75-84e8-72b2592da25f",
   "metadata": {},
   "source": [
    "Loss Function :\n",
    "\n",
    "Before we improve our model we need to evaluate how well our model is performing . We can compare the models predictions with the actual targets using the following method : \n",
    "---> Calculate the differnece between the two matix (preds and targets)\n",
    "---> Square all the elements of the differnce matrix to remove negative values \n",
    "---> Calculate the average of the elements in the resulting matrix \n",
    "\n",
    "The result is a single number , known as mean squared error ."
   ]
  },
  {
   "cell_type": "code",
   "execution_count": 12,
   "id": "d88c3644-941d-4f2a-8fad-0430f3a26d0d",
   "metadata": {},
   "outputs": [],
   "source": [
    "# MSE Loss\n",
    "\n",
    "def mse(t1,t2):\n",
    "    diff = t1 - t2 \n",
    "    return torch.sum(diff * diff) / diff.numel()"
   ]
  },
  {
   "cell_type": "code",
   "execution_count": 14,
   "id": "10c57ec2-b28e-49fb-b1d5-ff21ce69fa42",
   "metadata": {},
   "outputs": [
    {
     "name": "stdout",
     "output_type": "stream",
     "text": [
      "tensor(9072.7500, grad_fn=<DivBackward0>)\n"
     ]
    }
   ],
   "source": [
    "# Compute loss\n",
    "loss = mse(preds , targets)\n",
    "print(loss)"
   ]
  },
  {
   "cell_type": "raw",
   "id": "026db12a-7a20-4c06-9bd3-377058db1bd6",
   "metadata": {},
   "source": [
    "Here's how we can interpret the result :\n",
    "On average , each element in the prediction differs from the actual target by the square root of the loss . And's that pretty bad , considering the numbers we are trying to predict are themselves in the range 50-200 . The result is called the loss because it indicates how bad the model is at predicting the targeting variables . It represents the information loss in the model : the lower the loss , the better the model ."
   ]
  },
  {
   "cell_type": "raw",
   "id": "ed06721e-c27f-404b-bdc8-9e604bfa0152",
   "metadata": {},
   "source": [
    "Compute Gradients "
   ]
  },
  {
   "cell_type": "code",
   "execution_count": 15,
   "id": "279ad296-a5dc-4170-a7e4-7b33df295b14",
   "metadata": {},
   "outputs": [],
   "source": [
    "# compute gradients \n",
    "loss.backward()"
   ]
  },
  {
   "cell_type": "code",
   "execution_count": 17,
   "id": "2422f047-0304-4819-a505-ac2d49262d90",
   "metadata": {},
   "outputs": [
    {
     "name": "stdout",
     "output_type": "stream",
     "text": [
      "tensor([[ 0.6385, -1.3241,  0.7572],\n",
      "        [ 1.7492, -0.0939, -0.1655]], requires_grad=True)\n",
      "tensor([[ -7614.8330, -10219.6230,  -5789.0229],\n",
      "        [  3733.4604,   1977.6638,   1560.3055]])\n"
     ]
    }
   ],
   "source": [
    "# gradient for weights \n",
    "print(w)\n",
    "print(w.grad)"
   ]
  },
  {
   "cell_type": "raw",
   "id": "1b2afbf4-234b-4c66-b96d-0def6a3e5e99",
   "metadata": {},
   "source": [
    "Adjust weights and biases to reduce the loss "
   ]
  },
  {
   "cell_type": "raw",
   "id": "bd14d0be-e6ba-4f48-bc1a-233d33550769",
   "metadata": {},
   "source": [
    "Note Point : Gradient indicates the rate of change of loss i.e. the loss functions slope w.r.t weights and biases .\n"
   ]
  }
 ],
 "metadata": {
  "kernelspec": {
   "display_name": "Python 3 (ipykernel)",
   "language": "python",
   "name": "python3"
  },
  "language_info": {
   "codemirror_mode": {
    "name": "ipython",
    "version": 3
   },
   "file_extension": ".py",
   "mimetype": "text/x-python",
   "name": "python",
   "nbconvert_exporter": "python",
   "pygments_lexer": "ipython3",
   "version": "3.10.9"
  }
 },
 "nbformat": 4,
 "nbformat_minor": 5
}
